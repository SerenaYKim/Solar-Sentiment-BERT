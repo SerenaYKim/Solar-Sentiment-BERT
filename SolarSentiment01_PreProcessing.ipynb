{
  "cells": [
    {
      "cell_type": "code",
      "execution_count": null,
      "metadata": {
        "id": "rlK_JERMXEEd"
      },
      "outputs": [],
      "source": [
        "import pandas as pd\n",
        "import os\n",
        "import csv\n",
        "import glob"
      ]
    },
    {
      "cell_type": "code",
      "source": [
        "def process_text(text):\n",
        "    replacements = {\n",
        "        \"\\n\": \" \",\n",
        "        \",&amp;\": \"and\",\n",
        "        \",&gt;\": \"greater-than\",\n",
        "        \",&lt;\": \"less-than\",\n",
        "        \",&ge;\": \"greater-than-or-equal\",\n",
        "        \",&le;\": \"less-than-or-equal\",\n",
        "        \"&amp;\": \"and\",\n",
        "        \"&gt;\": \"greater-than\",\n",
        "        \"&lt;\": \"less-than\",\n",
        "        \"&ge;\": \"greater-than-or-equal\",\n",
        "        \"&le;\": \"less-than-or-equal\"\n",
        "    }\n",
        "    for old, new in replacements.items():\n",
        "        text = text.str.replace(old, new, case=False)\n",
        "    return text\n",
        "\n",
        "def process_combined_csv(year, input_dir):\n",
        "    os.chdir(input_dir)\n",
        "    extension = 'csv'\n",
        "    all_files = glob.glob(f'*.{extension}')\n",
        "    csv_list = [pd.read_csv(filename, index_col=None, header=0, lineterminator='\\n') for filename in all_files]\n",
        "    combined_csv = pd.concat(csv_list, ignore_index=True).sort_values(\"created_at\")\n",
        "\n",
        "    combined_csv[\"text\"] = process_text(combined_csv[\"text\"])\n",
        "    combined_csv[\"created_at\"] = combined_csv[\"created_at\"].str[:13]\n",
        "\n",
        "    exclude_keywords = ['pokemon', 'superman', 'galaxy', 'eclipse', 'solar plexus', 'solar-powered human', 'i will become your sun']\n",
        "    place_exclude_keywords = [\"international\", \"global\", \"earth\", \"galaxy\", \"milky way\", \"world\", \"everywhere\", \"anywhere\"]\n",
        "    combined_csv = combined_csv[~combined_csv.text.str.contains('|'.join(exclude_keywords), na=False, case=False)]\n",
        "    combined_csv = combined_csv[~combined_csv.user_loc.str.contains('|'.join(place_exclude_keywords), na=False, case=False)]\n",
        "\n",
        "    return combined_csv\n",
        "\n",
        "def save_processed_csv(data, year, output_dir):\n",
        "    output_path = os.path.join(output_dir, f\"solarsent_{year}.csv\")\n",
        "    data.to_csv(output_path, index=False, encoding='utf-8')"
      ],
      "metadata": {
        "id": "cgW69e1eHMbV"
      },
      "execution_count": null,
      "outputs": []
    },
    {
      "cell_type": "code",
      "source": [
        "years = [\"2013\", \"2014\", \"2015\", \"2016\", \"2017\", \"2018\", \"2019\", \"2020\", \"2021\", \"2022\"]\n",
        "\n",
        "for year in years:\n",
        "    input_dir = f\"../{year}\"\n",
        "    processed_data = process_combined_csv(year, input_dir)\n",
        "\n",
        "    output_dir = \"../\"\n",
        "    save_processed_csv(processed_data, year, output_dir)\n"
      ],
      "metadata": {
        "id": "Ia6BdULmHTQi"
      },
      "execution_count": null,
      "outputs": []
    }
  ],
  "metadata": {
    "colab": {
      "provenance": []
    },
    "kernelspec": {
      "display_name": "Python 3",
      "name": "python3"
    },
    "language_info": {
      "name": "python"
    }
  },
  "nbformat": 4,
  "nbformat_minor": 0
}