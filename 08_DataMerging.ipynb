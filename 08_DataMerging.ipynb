{
  "nbformat": 4,
  "nbformat_minor": 0,
  "metadata": {
    "colab": {
      "provenance": []
    },
    "kernelspec": {
      "name": "python3",
      "display_name": "Python 3"
    },
    "language_info": {
      "name": "python"
    }
  },
  "cells": [
    {
      "cell_type": "code",
      "source": [
        "from bs4 import BeautifulSoup\n",
        "import pandas as pd\n",
        "import re\n",
        "import requests\n",
        "import os\n",
        "\n",
        "import numpy as np\n",
        "import csv\n",
        "from functools import reduce\n",
        "import json"
      ],
      "metadata": {
        "id": "HrSA1IoCgUFF"
      },
      "execution_count": null,
      "outputs": []
    },
    {
      "cell_type": "code",
      "source": [
        "\n",
        "# Read a CSV file containing sentiment data\n",
        "cities_solarsent = pd.read_csv(\"sent_allyears_allcities_v6.csv\")\n",
        "states_solarsent = pd.read_csv(\"sent_allyears_allstates_v6.csv\")\n",
        "\n",
        "# county - city crosswalk\n",
        "crosswalk = pd.read_csv(\"cnty-place-crosswalk-pointbase.csv\")\n",
        "\n",
        "# election 10 years\n",
        "election = pd.read_csv(\"election_cnty_2013-2022.csv\")\n",
        "election['cntyfips'] = election['GEOID'].apply(lambda x: '{:05d}'.format(x))\n",
        "election = election.drop(columns=['GEOID'])\n",
        "\n",
        "# county population\n",
        "cnty_pop = pd.read_csv(\"county_race.csv\")\n",
        "cnty_pop['cntyfips'] = cnty_pop['fips'].apply(lambda x: '{:05d}'.format(x))\n",
        "cnty_pop = cnty_pop[[\"cntyfips\", \"population\"]]\n",
        "\n",
        "# urban rural\n",
        "urbanrural = pd.read_csv(\"usda_urbanrural_cnty_avg_2013_2022.csv\")\n",
        "urbanrural['cntyfips'] = urbanrural['cntyfips'].apply(lambda x: '{:05d}'.format(x))\n",
        "\n",
        "# place census data (B Table + S Table + Density)\n",
        "placecensus = pd.read_csv(\"census_full_s_b_2023-2022-v3.csv\")\n",
        "\n",
        "# energy generation state-level data\n",
        "energygen_states = pd.read_csv(\"2013-2022-state-energyfromsolar.csv\")\n",
        "\n",
        "# national risk index\n",
        "nri = pd.read_csv(\"NRI_Table_Counties_CL.csv\")\n",
        "\n",
        "# temperature, DNI, wind speed\n",
        "nsrdb = pd.read_csv(\"df_nsrdb_2013_2022_fordatav7_mastercityover3.csv\")"
      ],
      "metadata": {
        "id": "4fDcZwzsgUCo"
      },
      "execution_count": null,
      "outputs": []
    },
    {
      "cell_type": "code",
      "execution_count": null,
      "metadata": {
        "id": "ShxmRlGOgJ-n"
      },
      "outputs": [],
      "source": [
        "# Convert 'GEOID' to a string and add leading zeros to make it 7 digits\n",
        "crosswalk[\"GEOID\"] = crosswalk[\"GEOID\"].apply(str).str.zfill(7)\n",
        "\n",
        "# Create a new column 'GEO_ID' by appending \"1600000US\" to 'GEOID'\n",
        "crosswalk[\"GEO_ID\"] = \"1600000US\" + crosswalk[\"GEOID\"]\n",
        "\n",
        "# Merge 'cities_solarsent' and 'crosswalk' DataFrames on the 'GEO_ID' column\n",
        "frames = [cities_solarsent, crosswalk]\n",
        "cities_solarsent_cntyfips = reduce(lambda left, right: pd.merge(left, right, on=['GEO_ID'], how='inner'), frames)\n",
        "\n",
        "# Select specific columns from 'cities_solarsent_cntyfips'\n",
        "cities_solarsent_cntyfips = cities_solarsent_cntyfips[['GEO_ID', 'year', 'sent_score', 'tweet_count', 'user_count',\n",
        "                                                       'STATEFP', 'PLACEFP','cntyfips', 'CountyName','geometry']]\n",
        "\n",
        "# Format 'cntyfips' as a 5-digit string\n",
        "cities_solarsent_cntyfips[\"cntyfips\"] = cities_solarsent_cntyfips[\"cntyfips\"].apply(lambda x: '{:05d}'.format(x))\n",
        "\n",
        "# Merge 'election', 'nchs_urban', and 'cnty_pop' DataFrames on 'cntyfips'\n",
        "frames = [election, cnty_pop]\n",
        "cnty_df = reduce(lambda left, right: pd.merge(left, right, on=['cntyfips'], how='inner'), frames)\n",
        "\n",
        "# Merge 'cities_solarsent_cntyfips' and 'cnty_df' DataFrames on 'cntyfips' '\n",
        "frames = [cities_solarsent_cntyfips, urbanrural, cnty_df]\n",
        "solarsent_cntycov = reduce(lambda left, right: pd.merge(left, right, on=['cntyfips', 'year'], how='inner'), frames)\n",
        "\n",
        "# Rename the 'population' column to 'cntypop'\n",
        "solarsent_cntycov.rename(columns={\"population\": \"cntypop\"}, inplace=True)\n",
        "\n",
        "# Merge 'solarsent_cntycov' and 'placecensus' DataFrames on 'GEO_ID' and 'year'\n",
        "frames = [solarsent_cntycov, placecensus, nsrdb]\n",
        "solarsent_cntycov_censusb = reduce(lambda left, right: pd.merge(left, right, on=['GEO_ID', 'year'], how='inner'), frames)\n",
        "\n",
        "#modifying the column names so that the names match with state_solarsent\n",
        "solarsent_cntycov_censusb.rename(columns = {\"sent_score\": \"Sentiment Score\", \"STATEFP\": \"STATE_FIPS\"}, inplace=True)"
      ]
    },
    {
      "cell_type": "code",
      "source": [
        "states_solarsent_sub = states_solarsent[[\"STATE_FIPS\", \"year\", \"sent_score\"]]\n",
        "\n",
        "states_solarsent_sub.rename(columns = {\"sent_score\": \"State Sentiment Score\"}, inplace=True)\n",
        "\n",
        "# Merge 'cities_solarsent' and 'crosswalk' DataFrames on the 'GEO_ID' column\n",
        "frames = [solarsent_cntycov_censusb, states_solarsent_sub, energygen_states]\n",
        "solarsent_master = reduce(lambda left, right: pd.merge(left, right, on=['STATE_FIPS', \"year\"], how='inner'), frames)"
      ],
      "metadata": {
        "id": "8zueEaV7FXpN",
        "collapsed": true
      },
      "execution_count": null,
      "outputs": []
    },
    {
      "cell_type": "code",
      "source": [
        "solarsent_master[\"per_capita_energygen\"] = solarsent_master[\"EnergyNetGen\"] / solarsent_master[\"Population\"] * 100\n",
        "\n",
        "solarsent_master[\"ln_per_cap_energygen\"] = solarsent_master[\"per_capita_energygen\"].apply(np.log)\n",
        "\n",
        "solarsent_master[\"ln_landarea\"] = solarsent_master[\"AREASQM\"].apply(np.log)\n",
        "\n",
        "# Define a dictionary to map gender codes to gender names\n",
        "cat_dict = {1: \"Large Central Metro\", 2: \"Large Fringe Metro\", 3: \"Medium Metro\",\n",
        "            4: \"Nonmetro\", 5: \"Nonmetro\", 6: \"Nonmetro\", 7: \"Nonmetro\",\n",
        "            8:\"Rural\", 9: \"Rural\"}\n",
        "\n",
        "# Map the gender codes to gender names using the dictionary\n",
        "solarsent_master[\"Urban-Rural Continuum\"]  = solarsent_master[\"urbanrural\"].map(cat_dict)\n",
        "\n",
        "# Income variable\n",
        "solarsent_master[\"ln_income\"] = solarsent_master[\"MHIncome\"].apply(np.log)\n",
        "\n",
        "solarsent_master[\"ln_pop\"] = solarsent_master[\"Population\"].apply(np.log)\n",
        "\n",
        "solarsent_master[\"ln_homevalue\"] = solarsent_master['MedianHomeValue'].apply(np.log)\n",
        "\n",
        "solarsent_master[\"ln_income_sqrd\"] = solarsent_master[\"ln_income\"] **2\n",
        "\n",
        "solarsent_master[\"ln_pop_sqrd\"] = solarsent_master[\"ln_pop\"] ** 2\n",
        "\n",
        "solarsent_master[\"ln_homevalue_sqrd\"] = solarsent_master[\"ln_homevalue\"] **2\n",
        "\n",
        "solarsent_master[\"MedianHomeValue_sqrd\"] = solarsent_master[\"MedianHomeValue\"] **2\n",
        "\n",
        "solarsent_master[\"MHIncome_sqrd\"] = solarsent_master[\"MHIncome\"] **2\n",
        "\n",
        "solarsent_master[\"Population_sqrd\"] = solarsent_master[\"Population\"] **2\n",
        "\n",
        "solarsent_master.loc[solarsent_master['demvotes'] > 0.5, 'political ideology'] = 'Cities: Majority Democratic Voters'\n",
        "solarsent_master.loc[solarsent_master['demvotes'] <= 0.5, 'political ideology'] = 'Cities: Majority Republican Voters'\n",
        "\n",
        "solarsent_master[\"% Moved In\"] = solarsent_master[\"Pr_MovedWithinState\"] + solarsent_master[\"Pr_MovedOutofState\"] + solarsent_master[\"Pr_MovedfromOtherCountry\"]\n",
        "\n",
        "solarsent_master[\"% Non-Electric Heating\"] = solarsent_master['Pr_Heating_Gas'] + solarsent_master['Pr_Heating_Oil'] + solarsent_master['Pr_Heating_Coal'] + solarsent_master['Pr_Heating_Wood']"
      ],
      "metadata": {
        "id": "3PKEYEnQFY2e"
      },
      "execution_count": null,
      "outputs": []
    },
    {
      "cell_type": "code",
      "source": [
        "state_abbr = pd.read_csv(\"stateabbr.csv\")\n",
        "state_abbr[\"regions\"] = state_abbr[\"statename\"].map(us_state_regions)\n",
        "\n",
        "solarsent_master = solarsent_master.rename(columns={'STATE_FIPS': 'state'})"
      ],
      "metadata": {
        "id": "qHS5-HGUFadO"
      },
      "execution_count": null,
      "outputs": []
    },
    {
      "cell_type": "code",
      "source": [
        "frames = [solarsent_master, state_abbr]\n",
        "\n",
        "master = reduce(lambda left, right: pd.merge(left, right,on=['state'],\n",
        "                                            how='inner'), frames)"
      ],
      "metadata": {
        "id": "B6zaF2zjFb8S"
      },
      "execution_count": null,
      "outputs": []
    },
    {
      "cell_type": "code",
      "source": [
        "# List of unique regions\n",
        "unique_regions = master['regions'].unique()\n",
        "\n",
        "# Create dummy variables for each region\n",
        "for region in unique_regions:\n",
        "    master[f'US Region: {region}'] = (master['regions'] == region).astype(int)"
      ],
      "metadata": {
        "id": "vLcFw8yrFdWd"
      },
      "execution_count": null,
      "outputs": []
    },
    {
      "cell_type": "code",
      "source": [
        "master.drop(columns=['US Region: nan'], inplace=True)\n",
        "master.columns"
      ],
      "metadata": {
        "colab": {
          "base_uri": "https://localhost:8080/"
        },
        "id": "nXJhYmPvGVDn",
        "outputId": "b9f26728-6d29-4ed2-f0ff-71e26b150165"
      },
      "execution_count": null,
      "outputs": [
        {
          "output_type": "execute_result",
          "data": {
            "text/plain": [
              "Index(['GEO_ID', 'year', 'Sentiment Score', 'tweet_count', 'user_count',\n",
              "       'state', 'PLACEFP', 'cntyfips', 'CountyName', 'geometry', 'urbanrural',\n",
              "       'demvotes', 'repvotes', 'cntypop', 'NAME', 'Pr_EngLessThanWell',\n",
              "       'Pr_MovedWithinCounty', 'Pr_MovedWithinState', 'Pr_MovedOutofState',\n",
              "       'Pr_MovedfromOtherCountry', 'Pr_UnemploymentRateOver16', 'Pr_Multiunit',\n",
              "       'Pr_LivingAlone', 'Pr_MobileHomes',\n",
              "       'Pr_AgricultureForestryFishingHuntingMining', 'Pr_Construction',\n",
              "       'Pr_Manufacturing', 'Pr_Wholesale',\n",
              "       'Pr_TransportationWarehousingUtilities', 'Pr_Information',\n",
              "       'Pr_EducationHealthSocialAssistance', 'MHIncome', 'MedianAge',\n",
              "       'Pr_Citizen', 'Population', 'Pr_White', 'Pr_Black', 'Pr_His', 'Pr_AAPI',\n",
              "       'Pr_OtherRace', 'Pr_WorkFromHome', 'Pr_DriveAlone', 'Pr_BAorHigher',\n",
              "       'Pr_Renters', 'Pr_Heating_Gas', 'Pr_Heating_Oil', 'Pr_Heating_Coal',\n",
              "       'Pr_Heating_Wood', 'Pr_Heating_Solar', 'MedianYearStructureBuilt',\n",
              "       'MedianNumRooms', 'MedianHomeValue', 'pop_density', 'AREASQM',\n",
              "       'Wind Speed', 'Temperature', 'DNI', 'State Sentiment Score',\n",
              "       'EnergyNetGen', 'pr_energy_fromsolar', 'per_capita_energygen',\n",
              "       'ln_per_cap_energygen', 'ln_landarea', 'Urban-Rural Continuum',\n",
              "       'ln_income', 'ln_pop', 'ln_homevalue', 'ln_income_sqrd', 'ln_pop_sqrd',\n",
              "       'ln_homevalue_sqrd', 'MedianHomeValue_sqrd', 'MHIncome_sqrd',\n",
              "       'Population_sqrd', 'political ideology', '% Moved In',\n",
              "       '% Non-Electric Heating', 'statename', 'state_abbr', 'regions',\n",
              "       'US Region: Northeast', 'US Region: West', 'US Region: Midwest',\n",
              "       'US Region: South'],\n",
              "      dtype='object')"
            ]
          },
          "metadata": {},
          "execution_count": 10
        }
      ]
    },
    {
      "cell_type": "code",
      "source": [
        "newcolname = {\n",
        "    'GEO_ID': 'GEO_ID',\n",
        "    'year': 'Year',\n",
        "    'Sentiment Score': 'Solar Sentiment',\n",
        "    'urbanrural': 'Rurality',\n",
        "    'demvotes': '% Dem. Votes',\n",
        "    'repvotes': '% GOP Votes',\n",
        "    'Pr_EngLessThanWell': '% English Less Than Well',\n",
        "    'Pr_MovedWithinCounty': '% Moved within County',\n",
        "    'Pr_MovedWithinState': '% Moved within State',\n",
        "    'Pr_MovedOutofState': '% Moved out of State',\n",
        "    'Pr_MovedfromOtherCountry': '% Moved from Other Country',\n",
        "    'Pr_UnemploymentRateOver16': '% Unemployment Rate',\n",
        "    'Pr_Poverty': '% Poverty',\n",
        "    'Pr_OwnerOccupied': '% Owner Occupied',\n",
        "    'Pr_Multiunit': '% Multiunit Residents',\n",
        "    'Pr_LivingAlone': '% Living Alone',\n",
        "    'Pr_MobileHomes': '% Mobile Homes',\n",
        "    'Pr_AgricultureForestryFishingHuntingMining': '% Industry: Natural Resources',\n",
        "    'Pr_Construction': '% Industry: Construction',\n",
        "    'Pr_Manufacturing': '% Industry: Manufacturing',\n",
        "    'Pr_Wholesale': '% Industry: Wholesale',\n",
        "    'Pr_Realestate': '% Industry: Real Estate',\n",
        "    'Pr_TransportationWarehousingUtilities': '% Industry: Transp/Utilities',\n",
        "    'Pr_Information': '% Industry: Information',\n",
        "    'Pr_EducationHealthSocialAssistance': '% Industry: Social Services',\n",
        "    'Pr_DriveAlone': '% Commute: Drive Alone',\n",
        "    'Pr_Carpool': '% Commute: Carpool',\n",
        "    'Pr_PublicTransit': '% Commute: Public Transit',\n",
        "    'MedianAge': 'Median Age',\n",
        "    'Pr_BAorHigher': '% Bachelor or Higher',\n",
        "    'Pr_Disability': '% Ppl. Disability',\n",
        "    'Pr_White': '% White',\n",
        "    'Pr_Black': '% African American',\n",
        "    'Pr_His': '% Latinx/Hispanic',\n",
        "    'Pr_AAPI': '% AAPI',\n",
        "    'Pr_OtherRace': '% Other Race',\n",
        "    'Pr_Renters': '% Renters',\n",
        "    'Pr_Citizen': '% Citizen',\n",
        "    'Pr_Heating_Gas': '% Heating: Gas',\n",
        "    'Pr_Heating_Oil': '% Heating: Oil',\n",
        "    'Pr_Heating_Coal': '% Heating: Coal',\n",
        "    'Pr_Heating_Wood': '% Heating: Wood',\n",
        "    'Pr_Heating_Solar': '% Heating: Solar',\n",
        "    '% Non-Electric Heating': '% Heating: Non-Elec. Src.',\n",
        "    'MedianYearStructureBuilt': 'Year Structure Built',\n",
        "    'MedianNumRooms': 'Median Number of Rooms',\n",
        "    'MedianHomeValue': 'Home Value',\n",
        "    'pop_density': 'Pop. Density',\n",
        "    'State Sentiment Score': 'State Sentiment Score',\n",
        "    'pr_energy_fromsolar': '% Electricity from Solar',\n",
        "    'ln_per_cap_energygen': 'Per-Capita Energy Generation (ln)',\n",
        "    'ln_income': 'Median HH Income (ln)',\n",
        "    'ln_pop': 'Population (ln)',\n",
        "    'ln_landarea': 'Land Area (ln)',\n",
        "    'ln_homevalue': 'Home Value (ln)',\n",
        "    'ln_income_sqrd': 'Median HH Income (ln) Sqrd',\n",
        "    'ln_pop_sqrd': 'Population (ln) Sqrd',\n",
        "    'ln_homevalue_sqrd': 'Home Value (ln) Sqrd',\n",
        "    'per_capita_energygen': 'Per-Capita Energy Generation',\n",
        "    'Pr_WorkFromHome': '% Work from Home',\n",
        "    'DNI': 'Solar Radiation',\n",
        "    \"MedianHomeValue_sqrd\": \"Home Value Sqrd\",\n",
        "    \"MHIncome_sqrd\": \"Median HH Income Sqrd\",\n",
        "    \"Population_sqrd\": \"Population Sqrd\"\n",
        "}\n",
        "\n",
        "# Renaming columns\n",
        "master.rename(columns=newcolname, inplace=True)"
      ],
      "metadata": {
        "id": "luXqmThhGhW8"
      },
      "execution_count": null,
      "outputs": []
    },
    {
      "cell_type": "code",
      "source": [
        "master.columns"
      ],
      "metadata": {
        "colab": {
          "base_uri": "https://localhost:8080/"
        },
        "id": "4Ks-nDCwIJ4Y",
        "outputId": "3a169d0c-7351-417c-c990-46aeabdfbf4a"
      },
      "execution_count": null,
      "outputs": [
        {
          "output_type": "execute_result",
          "data": {
            "text/plain": [
              "Index(['GEO_ID', 'Year', 'Solar Sentiment', 'tweet_count', 'user_count',\n",
              "       'state', 'PLACEFP', 'cntyfips', 'CountyName', 'geometry', 'Rurality',\n",
              "       '% Dem. Votes', '% GOP Votes', 'cntypop', 'NAME',\n",
              "       '% English Less Than Well', '% Moved within County',\n",
              "       '% Moved within State', '% Moved out of State',\n",
              "       '% Moved from Other Country', '% Unemployment Rate',\n",
              "       '% Multiunit Residents', '% Living Alone', '% Mobile Homes',\n",
              "       '% Industry: Natural Resources', '% Industry: Construction',\n",
              "       '% Industry: Manufacturing', '% Industry: Wholesale',\n",
              "       '% Industry: Transp/Utilities', '% Industry: Information',\n",
              "       '% Industry: Social Services', 'MHIncome', 'Median Age', '% Citizen',\n",
              "       'Population', '% White', '% African American', '% Latinx/Hispanic',\n",
              "       '% AAPI', '% Other Race', '% Work from Home', '% Commute: Drive Alone',\n",
              "       '% Bachelor or Higher', '% Renters', '% Heating: Gas', '% Heating: Oil',\n",
              "       '% Heating: Coal', '% Heating: Wood', '% Heating: Solar',\n",
              "       'Year Structure Built', 'Median Number of Rooms', 'Home Value',\n",
              "       'Pop. Density', 'AREASQM', 'Wind Speed', 'Temperature',\n",
              "       'Solar Radiation', 'State Sentiment Score', 'EnergyNetGen',\n",
              "       '% Electricity from Solar', 'Per-Capita Energy Generation',\n",
              "       'Per-Capita Energy Generation (ln)', 'Land Area (ln)',\n",
              "       'Urban-Rural Continuum', 'Median HH Income (ln)', 'Population (ln)',\n",
              "       'Home Value (ln)', 'Median HH Income (ln) Sqrd', 'Population (ln) Sqrd',\n",
              "       'Home Value (ln) Sqrd', 'Home Value Sqrd', 'Median HH Income Sqrd',\n",
              "       'Population Sqrd', 'political ideology', '% Moved In',\n",
              "       '% Heating: Non-Elec. Src.', 'statename', 'state_abbr', 'regions',\n",
              "       'US Region: Northeast', 'US Region: West', 'US Region: Midwest',\n",
              "       'US Region: South'],\n",
              "      dtype='object')"
            ]
          },
          "metadata": {},
          "execution_count": 12
        }
      ]
    }
  ]
}